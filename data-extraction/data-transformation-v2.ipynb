{
 "cells": [
  {
   "cell_type": "code",
   "execution_count": 2,
   "id": "31678c7f",
   "metadata": {},
   "outputs": [],
   "source": [
    "def ipv4_to_32bit_int(ipv4):\n",
    "    a, b, c, d = [int(x) for x in ipv4.split('.')]\n",
    "    return (a << 24) + (b << 16) + (c << 8) + d\n",
    "\n",
    "\n",
    "def interleave_bits(x, y):\n",
    "    z = 0\n",
    "    for i in range(16):\n",
    "        z |= (x & 1 << i) << i | (y & 1 << i) << (i + 1)\n",
    "    return z\n",
    "\n",
    "\n",
    "def z_curve_mapping(ipv4):\n",
    "    ip_int = ipv4_to_32bit_int(ipv4)\n",
    "    x = ip_int & 0xAAAAAAAA\n",
    "    y = ip_int & 0x55555555\n",
    "    x = (x | (x >> 1)) & 0x33333333\n",
    "    x = (x | (x >> 2)) & 0x0F0F0F0F\n",
    "    x = (x | (x >> 4)) & 0x00FF00FF\n",
    "    x = (x | (x >> 8)) & 0x0000FFFF\n",
    "    y = (y | (y >> 1)) & 0x33333333\n",
    "    y = (y | (y >> 2)) & 0x0F0F0F0F\n",
    "    y = (y | (y >> 4)) & 0x00FF00FF\n",
    "    y = (y | (y >> 8)) & 0x0000FFFF\n",
    "    morton_number = interleave_bits(x, y)\n",
    "    lat = (morton_number / (2 ** 32 - 1)) * 180 - 90\n",
    "    lng = (morton_number % (2 ** 32 - 1)) * 360 / (2 ** 32 - 1) - 180\n",
    "    return round(lat, 5), round(lng, 5)\n",
    "\n",
    "def safe_z_curve_mapping(src_ip):\n",
    "    try:\n",
    "        lat, lon = z_curve_mapping(src_ip)\n",
    "        return lat, lon\n",
    "    except Exception as e:\n",
    "        return None, None"
   ]
  },
  {
   "cell_type": "code",
   "execution_count": 19,
   "id": "ceca852f",
   "metadata": {},
   "outputs": [],
   "source": [
    "import pandas as pd\n",
    "\n",
    "df = pd.read_csv(\"requests.csv\")"
   ]
  },
  {
   "cell_type": "code",
   "execution_count": 15,
   "id": "f1149701",
   "metadata": {},
   "outputs": [],
   "source": [
    "df['lat'], df['lon'] = zip(*df['dest_ip'].apply(lambda x: safe_z_curve_mapping(x)))"
   ]
  },
  {
   "cell_type": "code",
   "execution_count": 20,
   "id": "80ad8fd3",
   "metadata": {},
   "outputs": [
    {
     "data": {
      "text/html": [
       "<div>\n",
       "<style scoped>\n",
       "    .dataframe tbody tr th:only-of-type {\n",
       "        vertical-align: middle;\n",
       "    }\n",
       "\n",
       "    .dataframe tbody tr th {\n",
       "        vertical-align: top;\n",
       "    }\n",
       "\n",
       "    .dataframe thead th {\n",
       "        text-align: right;\n",
       "    }\n",
       "</style>\n",
       "<table border=\"1\" class=\"dataframe\">\n",
       "  <thead>\n",
       "    <tr style=\"text-align: right;\">\n",
       "      <th></th>\n",
       "      <th>dest_ip</th>\n",
       "      <th>timestamp_delta</th>\n",
       "    </tr>\n",
       "  </thead>\n",
       "  <tbody>\n",
       "    <tr>\n",
       "      <th>0</th>\n",
       "      <td>130.208.165.162</td>\n",
       "      <td>0.000</td>\n",
       "    </tr>\n",
       "    <tr>\n",
       "      <th>1</th>\n",
       "      <td>126.113.102.211</td>\n",
       "      <td>43.510</td>\n",
       "    </tr>\n",
       "    <tr>\n",
       "      <th>2</th>\n",
       "      <td>11.246.76.60</td>\n",
       "      <td>202.894</td>\n",
       "    </tr>\n",
       "    <tr>\n",
       "      <th>3</th>\n",
       "      <td>133.237.250.45</td>\n",
       "      <td>260.921</td>\n",
       "    </tr>\n",
       "    <tr>\n",
       "      <th>4</th>\n",
       "      <td>11.6.157.47</td>\n",
       "      <td>291.928</td>\n",
       "    </tr>\n",
       "    <tr>\n",
       "      <th>...</th>\n",
       "      <td>...</td>\n",
       "      <td>...</td>\n",
       "    </tr>\n",
       "    <tr>\n",
       "      <th>51673</th>\n",
       "      <td>118.242.100.101</td>\n",
       "      <td>5584.149</td>\n",
       "    </tr>\n",
       "    <tr>\n",
       "      <th>51674</th>\n",
       "      <td>3.173.82.147</td>\n",
       "      <td>5589.336</td>\n",
       "    </tr>\n",
       "    <tr>\n",
       "      <th>51675</th>\n",
       "      <td>0.34.188.54</td>\n",
       "      <td>5591.856</td>\n",
       "    </tr>\n",
       "    <tr>\n",
       "      <th>51676</th>\n",
       "      <td>207.10.85.210</td>\n",
       "      <td>5592.344</td>\n",
       "    </tr>\n",
       "    <tr>\n",
       "      <th>51677</th>\n",
       "      <td>91.86.234.14</td>\n",
       "      <td>5595.414</td>\n",
       "    </tr>\n",
       "  </tbody>\n",
       "</table>\n",
       "<p>51678 rows × 2 columns</p>\n",
       "</div>"
      ],
      "text/plain": [
       "               dest_ip  timestamp_delta\n",
       "0      130.208.165.162            0.000\n",
       "1      126.113.102.211           43.510\n",
       "2         11.246.76.60          202.894\n",
       "3       133.237.250.45          260.921\n",
       "4          11.6.157.47          291.928\n",
       "...                ...              ...\n",
       "51673  118.242.100.101         5584.149\n",
       "51674     3.173.82.147         5589.336\n",
       "51675      0.34.188.54         5591.856\n",
       "51676    207.10.85.210         5592.344\n",
       "51677     91.86.234.14         5595.414\n",
       "\n",
       "[51678 rows x 2 columns]"
      ]
     },
     "execution_count": 20,
     "metadata": {},
     "output_type": "execute_result"
    }
   ],
   "source": [
    "df = df.sort_values('timestamp')\n",
    "df['timestamp'] = pd.to_datetime(df['timestamp'])\n",
    "first_timestamp = df['timestamp'].iloc[0]\n",
    "df['timestamp_delta'] = (df['timestamp'] - first_timestamp).dt.total_seconds()\n",
    "df = df.drop(['src_ip','timestamp'], axis=1)\n",
    "df.dropna()"
   ]
  },
  {
   "cell_type": "code",
   "execution_count": 21,
   "id": "ddaedef5",
   "metadata": {},
   "outputs": [],
   "source": [
    "df.to_csv(\"requests_transformed.csv\")"
   ]
  },
  {
   "cell_type": "code",
   "execution_count": 18,
   "id": "6a091dd9",
   "metadata": {},
   "outputs": [
    {
     "name": "stdout",
     "output_type": "stream",
     "text": [
      "<class 'pandas.core.frame.DataFrame'>\n",
      "Int64Index: 51679 entries, 0 to 51678\n",
      "Data columns (total 4 columns):\n",
      " #   Column           Non-Null Count  Dtype  \n",
      "---  ------           --------------  -----  \n",
      " 0   dest_ip          51678 non-null  object \n",
      " 1   lat              51678 non-null  float64\n",
      " 2   lon              51678 non-null  float64\n",
      " 3   timestamp_delta  51678 non-null  float64\n",
      "dtypes: float64(3), object(1)\n",
      "memory usage: 2.0+ MB\n"
     ]
    }
   ],
   "source": [
    "df.info()"
   ]
  },
  {
   "cell_type": "code",
   "execution_count": null,
   "id": "5e718f54",
   "metadata": {},
   "outputs": [],
   "source": []
  }
 ],
 "metadata": {
  "kernelspec": {
   "display_name": "Python 3 (ipykernel)",
   "language": "python",
   "name": "python3"
  },
  "language_info": {
   "codemirror_mode": {
    "name": "ipython",
    "version": 3
   },
   "file_extension": ".py",
   "mimetype": "text/x-python",
   "name": "python",
   "nbconvert_exporter": "python",
   "pygments_lexer": "ipython3",
   "version": "3.11.0"
  }
 },
 "nbformat": 4,
 "nbformat_minor": 5
}
