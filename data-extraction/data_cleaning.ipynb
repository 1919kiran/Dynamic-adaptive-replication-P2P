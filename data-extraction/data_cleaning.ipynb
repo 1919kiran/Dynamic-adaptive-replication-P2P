{
 "cells": [
  {
   "cell_type": "code",
   "execution_count": 2,
   "id": "53e3acf2",
   "metadata": {},
   "outputs": [],
   "source": [
    "import pandas as pd\n",
    "import matplotlib as plt"
   ]
  },
  {
   "cell_type": "code",
   "execution_count": 11,
   "id": "ebdc2224",
   "metadata": {},
   "outputs": [],
   "source": [
    "df = pd.read_csv(\"/Users/kiran/Downloads/output\", delimiter = \"\\t\")\n",
    "n = 1000  # Set the value of n here\n",
    "df = df.iloc[::n, :]"
   ]
  },
  {
   "cell_type": "code",
   "execution_count": 12,
   "id": "a72ac4fe",
   "metadata": {},
   "outputs": [],
   "source": [
    "df = df.reset_index()"
   ]
  },
  {
   "cell_type": "code",
   "execution_count": 13,
   "id": "8864145f",
   "metadata": {},
   "outputs": [
    {
     "name": "stdout",
     "output_type": "stream",
     "text": [
      "<class 'pandas.core.frame.DataFrame'>\n",
      "RangeIndex: 51679 entries, 0 to 51678\n",
      "Data columns (total 12 columns):\n",
      " #   Column                                                                                                                Non-Null Count  Dtype  \n",
      "---  ------                                                                                                                --------------  -----  \n",
      " 0   level_0                                                                                                               51679 non-null  object \n",
      " 1   level_1                                                                                                               51678 non-null  object \n",
      " 2   level_2                                                                                                               51678 non-null  float64\n",
      " 3   level_3                                                                                                               51678 non-null  object \n",
      " 4   level_4                                                                                                               51678 non-null  float64\n",
      " 5   level_5                                                                                                               51678 non-null  float64\n",
      " 6   level_6                                                                                                               51678 non-null  object \n",
      " 7   level_7                                                                                                               51678 non-null  float64\n",
      " 8   level_8                                                                                                               51678 non-null  float64\n",
      " 9   level_9                                                                                                               51678 non-null  float64\n",
      " 10  level_10                                                                                                              51678 non-null  float64\n",
      " 11  Start             End               Sif   SrcIPaddress    SrcP  DIf   DstIPaddress    DstP    P Fl Pkts       Octets  51678 non-null  float64\n",
      "dtypes: float64(8), object(4)\n",
      "memory usage: 4.7+ MB\n"
     ]
    }
   ],
   "source": [
    "df.info()"
   ]
  },
  {
   "cell_type": "code",
   "execution_count": 14,
   "id": "ab0ffb1d",
   "metadata": {},
   "outputs": [],
   "source": [
    "df = df.rename(columns={'level_3': 'src_ip'})\n",
    "df = df.rename(columns={'level_6': 'dest_ip'})"
   ]
  },
  {
   "cell_type": "code",
   "execution_count": 15,
   "id": "630f59af",
   "metadata": {},
   "outputs": [],
   "source": [
    "df[\"timestamp\"] = pd.to_datetime(df[\"level_0\"], format=\"%m%d.%H:%M:%S.%f\", errors=\"coerce\")\n"
   ]
  },
  {
   "cell_type": "code",
   "execution_count": 16,
   "id": "7a9a9892",
   "metadata": {
    "scrolled": true
   },
   "outputs": [
    {
     "name": "stderr",
     "output_type": "stream",
     "text": [
      "/var/folders/fr/yxnbjc49785fv3t1j75vx2w00000gn/T/ipykernel_73530/2469976476.py:1: FutureWarning: In a future version of pandas all arguments of DataFrame.drop except for the argument 'labels' will be keyword-only.\n",
      "  df.drop(df.columns.difference(['timestamp','src_ip','dest_ip']), 1, inplace=True)\n"
     ]
    }
   ],
   "source": [
    "df.drop(df.columns.difference(['timestamp','src_ip','dest_ip']), 1, inplace=True)"
   ]
  },
  {
   "cell_type": "code",
   "execution_count": 17,
   "id": "6c32dedf",
   "metadata": {},
   "outputs": [
    {
     "name": "stdout",
     "output_type": "stream",
     "text": [
      "<class 'pandas.core.frame.DataFrame'>\n",
      "RangeIndex: 51679 entries, 0 to 51678\n",
      "Data columns (total 3 columns):\n",
      " #   Column     Non-Null Count  Dtype         \n",
      "---  ------     --------------  -----         \n",
      " 0   src_ip     51678 non-null  object        \n",
      " 1   dest_ip    51678 non-null  object        \n",
      " 2   timestamp  51678 non-null  datetime64[ns]\n",
      "dtypes: datetime64[ns](1), object(2)\n",
      "memory usage: 1.2+ MB\n"
     ]
    }
   ],
   "source": [
    "df.info()"
   ]
  },
  {
   "cell_type": "code",
   "execution_count": 18,
   "id": "31a2e4f8",
   "metadata": {},
   "outputs": [],
   "source": [
    "df.sort_values(by=[\"timestamp\"], inplace = True)"
   ]
  },
  {
   "cell_type": "code",
   "execution_count": 19,
   "id": "f28299b9",
   "metadata": {},
   "outputs": [],
   "source": [
    "df.to_csv('requests.csv', index = False, encoding='utf-8')"
   ]
  },
  {
   "cell_type": "code",
   "execution_count": 21,
   "id": "27172ac7",
   "metadata": {},
   "outputs": [
    {
     "data": {
      "text/html": [
       "<div>\n",
       "<style scoped>\n",
       "    .dataframe tbody tr th:only-of-type {\n",
       "        vertical-align: middle;\n",
       "    }\n",
       "\n",
       "    .dataframe tbody tr th {\n",
       "        vertical-align: top;\n",
       "    }\n",
       "\n",
       "    .dataframe thead th {\n",
       "        text-align: right;\n",
       "    }\n",
       "</style>\n",
       "<table border=\"1\" class=\"dataframe\">\n",
       "  <thead>\n",
       "    <tr style=\"text-align: right;\">\n",
       "      <th></th>\n",
       "      <th>src_ip</th>\n",
       "      <th>dest_ip</th>\n",
       "      <th>timestamp</th>\n",
       "    </tr>\n",
       "  </thead>\n",
       "  <tbody>\n",
       "    <tr>\n",
       "      <th>319</th>\n",
       "      <td>3.173.85.27</td>\n",
       "      <td>130.208.165.162</td>\n",
       "      <td>1900-04-29 07:41:36.252</td>\n",
       "    </tr>\n",
       "    <tr>\n",
       "      <th>440</th>\n",
       "      <td>135.48.82.81</td>\n",
       "      <td>126.113.102.211</td>\n",
       "      <td>1900-04-29 07:42:19.762</td>\n",
       "    </tr>\n",
       "    <tr>\n",
       "      <th>2496</th>\n",
       "      <td>174.208.19.178</td>\n",
       "      <td>11.246.76.60</td>\n",
       "      <td>1900-04-29 07:44:59.146</td>\n",
       "    </tr>\n",
       "    <tr>\n",
       "      <th>2937</th>\n",
       "      <td>117.39.201.66</td>\n",
       "      <td>133.237.250.45</td>\n",
       "      <td>1900-04-29 07:45:57.173</td>\n",
       "    </tr>\n",
       "    <tr>\n",
       "      <th>3436</th>\n",
       "      <td>117.39.202.4</td>\n",
       "      <td>11.6.157.47</td>\n",
       "      <td>1900-04-29 07:46:28.180</td>\n",
       "    </tr>\n",
       "    <tr>\n",
       "      <th>...</th>\n",
       "      <td>...</td>\n",
       "      <td>...</td>\n",
       "      <td>...</td>\n",
       "    </tr>\n",
       "    <tr>\n",
       "      <th>51555</th>\n",
       "      <td>124.106.9.230</td>\n",
       "      <td>118.242.100.101</td>\n",
       "      <td>1900-04-29 09:14:40.401</td>\n",
       "    </tr>\n",
       "    <tr>\n",
       "      <th>51677</th>\n",
       "      <td>3.35.3.242</td>\n",
       "      <td>3.173.82.147</td>\n",
       "      <td>1900-04-29 09:14:45.588</td>\n",
       "    </tr>\n",
       "    <tr>\n",
       "      <th>51673</th>\n",
       "      <td>3.35.238.233</td>\n",
       "      <td>0.34.188.54</td>\n",
       "      <td>1900-04-29 09:14:48.108</td>\n",
       "    </tr>\n",
       "    <tr>\n",
       "      <th>51604</th>\n",
       "      <td>118.242.94.212</td>\n",
       "      <td>207.10.85.210</td>\n",
       "      <td>1900-04-29 09:14:48.596</td>\n",
       "    </tr>\n",
       "    <tr>\n",
       "      <th>51605</th>\n",
       "      <td>118.242.94.212</td>\n",
       "      <td>91.86.234.14</td>\n",
       "      <td>1900-04-29 09:14:51.666</td>\n",
       "    </tr>\n",
       "  </tbody>\n",
       "</table>\n",
       "<p>51678 rows × 3 columns</p>\n",
       "</div>"
      ],
      "text/plain": [
       "               src_ip          dest_ip               timestamp\n",
       "319       3.173.85.27  130.208.165.162 1900-04-29 07:41:36.252\n",
       "440      135.48.82.81  126.113.102.211 1900-04-29 07:42:19.762\n",
       "2496   174.208.19.178     11.246.76.60 1900-04-29 07:44:59.146\n",
       "2937    117.39.201.66   133.237.250.45 1900-04-29 07:45:57.173\n",
       "3436     117.39.202.4      11.6.157.47 1900-04-29 07:46:28.180\n",
       "...               ...              ...                     ...\n",
       "51555   124.106.9.230  118.242.100.101 1900-04-29 09:14:40.401\n",
       "51677      3.35.3.242     3.173.82.147 1900-04-29 09:14:45.588\n",
       "51673    3.35.238.233      0.34.188.54 1900-04-29 09:14:48.108\n",
       "51604  118.242.94.212    207.10.85.210 1900-04-29 09:14:48.596\n",
       "51605  118.242.94.212     91.86.234.14 1900-04-29 09:14:51.666\n",
       "\n",
       "[51678 rows x 3 columns]"
      ]
     },
     "execution_count": 21,
     "metadata": {},
     "output_type": "execute_result"
    }
   ],
   "source": [
    "df.dropna()"
   ]
  },
  {
   "cell_type": "code",
   "execution_count": null,
   "id": "7ed4bcc4",
   "metadata": {},
   "outputs": [],
   "source": []
  }
 ],
 "metadata": {
  "kernelspec": {
   "display_name": "Python 3 (ipykernel)",
   "language": "python",
   "name": "python3"
  },
  "language_info": {
   "codemirror_mode": {
    "name": "ipython",
    "version": 3
   },
   "file_extension": ".py",
   "mimetype": "text/x-python",
   "name": "python",
   "nbconvert_exporter": "python",
   "pygments_lexer": "ipython3",
   "version": "3.11.0"
  }
 },
 "nbformat": 4,
 "nbformat_minor": 5
}
